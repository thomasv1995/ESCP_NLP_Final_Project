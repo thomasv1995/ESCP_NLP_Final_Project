{
 "cells": [
  {
   "cell_type": "markdown",
   "metadata": {},
   "source": [
    "# NLP Final Project: Predicting the Best Answer From Online Forum Questions\n",
    "\n",
    "### *Group 5: Amélie Pingeot, Youssef Jachttar, Qinjiong Zeng & Thomas Vermaelen*"
   ]
  },
  {
   "cell_type": "markdown",
   "metadata": {},
   "source": [
    "Based on a dataset of online forum questions that include answers, comments and other variables, we will attempt to build the optimal model that can predict whether an answer to a question was considered as the \"Best Answer\" according to users.  "
   ]
  },
  {
   "cell_type": "code",
   "execution_count": 1,
   "metadata": {},
   "outputs": [],
   "source": [
    "import os\n",
    "import pandas as pd\n",
    "from nltk.tokenize import TweetTokenizer,word_tokenize\n",
    "import re\n",
    "from bs4 import BeautifulSoup\n",
    "import random\n",
    "from random import sample\n",
    "from gensim.models.word2vec import Word2Vec\n",
    "import nltk\n",
    "from nltk.stem import PorterStemmer\n",
    "import numpy as np\n",
    "from sklearn.model_selection import train_test_split\n",
    "from datetime import datetime\n",
    "import seaborn as sns\n",
    "import matplotlib.pyplot as plt\n",
    "import warnings\n",
    "import pickle\n",
    "warnings.filterwarnings(\"ignore\", category=UserWarning)\n",
    "warnings.filterwarnings(\"ignore\", category=DeprecationWarning)"
   ]
  },
  {
   "cell_type": "markdown",
   "metadata": {},
   "source": [
    "## I. Convert Provided File Into Readable CSV File"
   ]
  },
  {
   "cell_type": "code",
   "execution_count": 2,
   "metadata": {},
   "outputs": [],
   "source": [
    "os.chdir(\"/Users/thomasvermaelen/Documents/ESCP/NLP/Final Project\")\n",
    "txt_path = \"./export-forums_en.csv\"\n",
    "entity_path = \"./export-forums_en.pickle\"\n",
    "csv_path = \"./export-forums_en.format.csv\"\n",
    "data_path = \"./\"\n",
    "field_names = ['id', 'type', 'is_best_answer', 'topic_id', 'parent_id', 'votes',\n",
    "               'title', 'content', 'member', 'category', 'state', 'is_solved', 'num_answers',\n",
    "               'country', 'date', 'last_answer_date', 'author_crc', 'visits']\n",
    "\n",
    "def format_entities():\n",
    "    '''\n",
    "    Read the raw data, format the list of entities, serialize them.\n",
    "    '''\n",
    "\n",
    "    def build_entities(txt_path, max_entities=None):\n",
    "        '''\n",
    "        Return a list of structured entities from raw txt file.\n",
    "        '''\n",
    "        # Read text file.\n",
    "        with open(txt_path, 'r', encoding='utf8') as f:\n",
    "            # Entities and current entity.\n",
    "            entities, entity = [], {}\n",
    "            # Entity values might be split over lines\n",
    "            field_counter = 0\n",
    "            # Process lines\n",
    "            for line in f:\n",
    "                # Prepare line\n",
    "                line = line.replace(\"\\\\N\", '\"unkwown\"')\n",
    "                # Char start for extracted value.\n",
    "                char_start = 1\n",
    "                # Find values separators\n",
    "                field_index = [m.start() for m in re.finditer('\",\"', line)]\n",
    "                # Browse value separators.\n",
    "                for index in field_index:\n",
    "                    # Extract in between value.\n",
    "                    value = line[char_start:index]\n",
    "                    # Update start index.\n",
    "                    char_start = index + 3\n",
    "                    # Update field counter.\n",
    "                    field_counter += 1\n",
    "                    # Update entity value.\n",
    "                    try:\n",
    "                        entity[field_names[field_counter-1]] += value\n",
    "                    except KeyError:\n",
    "                        entity[field_names[field_counter-1]] = value\n",
    "                    except IndexError:\n",
    "                        entity = {}\n",
    "                        field_counter = 0\n",
    "                # Content string is split.\n",
    "                if field_counter == 7 and len(field_index) > 0:\n",
    "                    entity[field_names[7]] = line[field_index[-1]:]\n",
    "                    continue\n",
    "                # Next content string.\n",
    "                if field_counter == 7 and len(field_index) == 0:\n",
    "                    entity[field_names[7]] += line\n",
    "                    continue\n",
    "                # Next entity.\n",
    "                if len(entity) == 17:\n",
    "                    field_counter = 0\n",
    "                    entities.append(entity)\n",
    "                    entity = {}\n",
    "                    if max_entities is not None:\n",
    "                        if len(entities) > max_entities:\n",
    "                            return entities\n",
    "        return entities\n",
    "\n",
    "    # Write entities on disk.\n",
    "    with open(entity_path, 'wb') as f:\n",
    "        pickle.dump(build_entities(txt_path=txt_path, max_entities=None), f)\n",
    "\n",
    "\n",
    "def entities_to_csv():\n",
    "    '''\n",
    "    Format entities to csv.\n",
    "    '''\n",
    "    with open(entity_path, 'rb') as obj:\n",
    "        entities = pickle.load(obj)\n",
    "    x = pd.DataFrame(entities)\n",
    "    x.to_csv(csv_path)\n",
    "    \n",
    "format_entities()\n",
    "entities_to_csv()"
   ]
  },
  {
   "cell_type": "markdown",
   "metadata": {},
   "source": [
    "## II. Data Preparation"
   ]
  },
  {
   "cell_type": "code",
   "execution_count": 3,
   "metadata": {},
   "outputs": [
    {
     "data": {
      "text/html": [
       "<div>\n",
       "<style scoped>\n",
       "    .dataframe tbody tr th:only-of-type {\n",
       "        vertical-align: middle;\n",
       "    }\n",
       "\n",
       "    .dataframe tbody tr th {\n",
       "        vertical-align: top;\n",
       "    }\n",
       "\n",
       "    .dataframe thead th {\n",
       "        text-align: right;\n",
       "    }\n",
       "</style>\n",
       "<table border=\"1\" class=\"dataframe\">\n",
       "  <thead>\n",
       "    <tr style=\"text-align: right;\">\n",
       "      <th></th>\n",
       "      <th>id</th>\n",
       "      <th>type</th>\n",
       "      <th>is_best_answer</th>\n",
       "      <th>topic_id</th>\n",
       "      <th>parent_id</th>\n",
       "      <th>votes</th>\n",
       "      <th>title</th>\n",
       "      <th>content</th>\n",
       "      <th>member</th>\n",
       "      <th>category</th>\n",
       "      <th>state</th>\n",
       "      <th>is_solved</th>\n",
       "      <th>num_answers</th>\n",
       "      <th>country</th>\n",
       "      <th>date</th>\n",
       "      <th>last_answer_date</th>\n",
       "      <th>author_crc</th>\n",
       "    </tr>\n",
       "  </thead>\n",
       "  <tbody>\n",
       "    <tr>\n",
       "      <th>185</th>\n",
       "      <td>5</td>\n",
       "      <td>Q</td>\n",
       "      <td>0</td>\n",
       "      <td>5</td>\n",
       "      <td>0</td>\n",
       "      <td>0</td>\n",
       "      <td>Trojan help</td>\n",
       "      <td>\",\"Hello,\\n\\\\nbr&gt;I have a Trojan on my compute...</td>\n",
       "      <td>0</td>\n",
       "      <td>7</td>\n",
       "      <td>1</td>\n",
       "      <td>0</td>\n",
       "      <td>4</td>\n",
       "      <td>FR</td>\n",
       "      <td>1199900308</td>\n",
       "      <td>1208967475</td>\n",
       "      <td>2355851921</td>\n",
       "    </tr>\n",
       "    <tr>\n",
       "      <th>186</th>\n",
       "      <td>14</td>\n",
       "      <td>A</td>\n",
       "      <td>0</td>\n",
       "      <td>5</td>\n",
       "      <td>5</td>\n",
       "      <td>1</td>\n",
       "      <td>Trojan help</td>\n",
       "      <td>First problem is having Norton. This program d...</td>\n",
       "      <td>0</td>\n",
       "      <td>7</td>\n",
       "      <td>1</td>\n",
       "      <td>0</td>\n",
       "      <td>4</td>\n",
       "      <td>FR</td>\n",
       "      <td>1199952649</td>\n",
       "      <td>1208967475</td>\n",
       "      <td>1932528411</td>\n",
       "    </tr>\n",
       "    <tr>\n",
       "      <th>187</th>\n",
       "      <td>169</td>\n",
       "      <td>A</td>\n",
       "      <td>0</td>\n",
       "      <td>5</td>\n",
       "      <td>5</td>\n",
       "      <td>0</td>\n",
       "      <td>Trojan help</td>\n",
       "      <td>\",\"hi there, \\n\\\\n&lt;br&gt;\\n\\\\n&lt;br&gt;please download...</td>\n",
       "      <td>2</td>\n",
       "      <td>7</td>\n",
       "      <td>1</td>\n",
       "      <td>0</td>\n",
       "      <td>4</td>\n",
       "      <td>FI</td>\n",
       "      <td>1201275303</td>\n",
       "      <td>1208967475</td>\n",
       "      <td>1113244950</td>\n",
       "    </tr>\n",
       "    <tr>\n",
       "      <th>188</th>\n",
       "      <td>4532</td>\n",
       "      <td>A</td>\n",
       "      <td>0</td>\n",
       "      <td>5</td>\n",
       "      <td>5</td>\n",
       "      <td>0</td>\n",
       "      <td>Trojan help</td>\n",
       "      <td>\",\"HI  I MOHAMED  FROM  ALEX  I  HAVE  SOME PR...</td>\n",
       "      <td>0</td>\n",
       "      <td>7</td>\n",
       "      <td>1</td>\n",
       "      <td>0</td>\n",
       "      <td>4</td>\n",
       "      <td>unknown</td>\n",
       "      <td>1207942020</td>\n",
       "      <td>1208967475</td>\n",
       "      <td>1957797043</td>\n",
       "    </tr>\n",
       "    <tr>\n",
       "      <th>189</th>\n",
       "      <td>5318</td>\n",
       "      <td>A</td>\n",
       "      <td>1</td>\n",
       "      <td>5</td>\n",
       "      <td>5</td>\n",
       "      <td>2</td>\n",
       "      <td>Trojan help</td>\n",
       "      <td>hey i had trojan on my pc , my friend told me ...</td>\n",
       "      <td>2</td>\n",
       "      <td>7</td>\n",
       "      <td>1</td>\n",
       "      <td>0</td>\n",
       "      <td>4</td>\n",
       "      <td>unknown</td>\n",
       "      <td>1208967475</td>\n",
       "      <td>1208967475</td>\n",
       "      <td>2126777814</td>\n",
       "    </tr>\n",
       "  </tbody>\n",
       "</table>\n",
       "</div>"
      ],
      "text/plain": [
       "       id type  is_best_answer  topic_id  parent_id  votes        title  \\\n",
       "185     5    Q               0         5          0      0  Trojan help   \n",
       "186    14    A               0         5          5      1  Trojan help   \n",
       "187   169    A               0         5          5      0  Trojan help   \n",
       "188  4532    A               0         5          5      0  Trojan help   \n",
       "189  5318    A               1         5          5      2  Trojan help   \n",
       "\n",
       "                                               content  member  category  \\\n",
       "185  \",\"Hello,\\n\\\\nbr>I have a Trojan on my compute...       0         7   \n",
       "186  First problem is having Norton. This program d...       0         7   \n",
       "187  \",\"hi there, \\n\\\\n<br>\\n\\\\n<br>please download...       2         7   \n",
       "188  \",\"HI  I MOHAMED  FROM  ALEX  I  HAVE  SOME PR...       0         7   \n",
       "189  hey i had trojan on my pc , my friend told me ...       2         7   \n",
       "\n",
       "     state  is_solved  num_answers  country        date  last_answer_date  \\\n",
       "185      1          0            4       FR  1199900308        1208967475   \n",
       "186      1          0            4       FR  1199952649        1208967475   \n",
       "187      1          0            4       FI  1201275303        1208967475   \n",
       "188      1          0            4  unknown  1207942020        1208967475   \n",
       "189      1          0            4  unknown  1208967475        1208967475   \n",
       "\n",
       "     author_crc  \n",
       "185  2355851921  \n",
       "186  1932528411  \n",
       "187  1113244950  \n",
       "188  1957797043  \n",
       "189  2126777814  "
      ]
     },
     "execution_count": 3,
     "metadata": {},
     "output_type": "execute_result"
    }
   ],
   "source": [
    "os.chdir(\"/Users/thomasvermaelen/Documents/ESCP/NLP/Final Project\")\n",
    "data = pd.read_csv(\"export-forums_en.format.csv\", error_bad_lines= False) \n",
    "data = data.drop(columns=[\"Unnamed: 0\"])\n",
    "\n",
    "# sample 100,000 questions/topic_ids\n",
    "ids = data[data.type ==\"Q\"].iloc[:,[0,3]].copy()\n",
    "random.seed(123)\n",
    "samp_ind = sample(list(ids.id), 100000)\n",
    "ids_samp = ids[ids.id.isin(samp_ind)]\n",
    "samp = data[data.topic_id.isin(ids_samp.topic_id)].copy()\n",
    "del data\n",
    "samp.loc[samp.country==\"unkwown\", \"country\"]=\"unknown\"\n",
    "samp.content = samp.content.astype(str)\n",
    "samp.head()"
   ]
  },
  {
   "cell_type": "code",
   "execution_count": 4,
   "metadata": {},
   "outputs": [
    {
     "data": {
      "text/plain": [
       "185    [hello, trojan, comput, norton, remov, wonder,...\n",
       "186    [first, problem, norton, program, help, preven...\n",
       "187    [hi, pleas, download, hijack, post, log, forum...\n",
       "188    [hi, moham, alex, proplem, comput, becus, viru...\n",
       "189    [hey, trojan, pc, friend, told, use, avira, an...\n",
       "Name: content_tok, dtype: object"
      ]
     },
     "execution_count": 4,
     "metadata": {},
     "output_type": "execute_result"
    }
   ],
   "source": [
    "#  clean, tokenize, stem\n",
    "def clean_content(text):\n",
    "    cleantext = text.lower()\n",
    "    cleantext = BeautifulSoup(cleantext, \"lxml\").text    \n",
    "    cleantext = cleantext.replace(\"\\n\",\" \")\n",
    "    cleantext = cleantext.replace(\".\", \" \")\n",
    "    cleantext= re.sub('[!\"#%\\'()*+,./:;<=>?@\\[\\]^-_`{|}~’”“′‘\\\\\\]',' ', cleantext)\n",
    "    cleantext = re.sub(\" br \", \" \", cleantext)\n",
    "    return cleantext\n",
    "samp.content = [clean_content(text) for text in samp.content]\n",
    "tokenizer = TweetTokenizer() \n",
    "samp[\"content_tok\"] =samp.content.apply(tokenizer.tokenize)\n",
    "stop_words = nltk.corpus.stopwords.words('english')\n",
    "samp['content_tok'] = samp[\"content_tok\"].apply(lambda x: [word for word in x if word not in stop_words])\n",
    "stemmer = PorterStemmer()\n",
    "samp[\"content_tok\"]=[[stemmer.stem(word) for word in word_vec] for word_vec in samp.content_tok]\n",
    "samp.content_tok.head()"
   ]
  },
  {
   "cell_type": "code",
   "execution_count": 5,
   "metadata": {},
   "outputs": [],
   "source": [
    "# merge countries that don't appear often into one class\n",
    "from collections import Counter\n",
    "country_counter = Counter(samp.country)\n",
    "freq= list(country_counter.values())\n",
    "countries = list(country_counter.keys())\n",
    "indices = [x[0] for x in enumerate(freq) if x[1]/samp.shape[0] < 0.01]\n",
    "countries_to_merge = [countries[i] for i in indices]\n",
    "samp.loc[samp.country.isin(countries_to_merge), \"country\"]=\"other\""
   ]
  },
  {
   "cell_type": "code",
   "execution_count": 6,
   "metadata": {},
   "outputs": [
    {
     "data": {
      "text/html": [
       "<div>\n",
       "<style scoped>\n",
       "    .dataframe tbody tr th:only-of-type {\n",
       "        vertical-align: middle;\n",
       "    }\n",
       "\n",
       "    .dataframe tbody tr th {\n",
       "        vertical-align: top;\n",
       "    }\n",
       "\n",
       "    .dataframe thead th {\n",
       "        text-align: right;\n",
       "    }\n",
       "</style>\n",
       "<table border=\"1\" class=\"dataframe\">\n",
       "  <thead>\n",
       "    <tr style=\"text-align: right;\">\n",
       "      <th></th>\n",
       "      <th>id</th>\n",
       "      <th>type</th>\n",
       "      <th>is_best_answer</th>\n",
       "      <th>topic_id</th>\n",
       "      <th>parent_id</th>\n",
       "      <th>votes</th>\n",
       "      <th>title</th>\n",
       "      <th>content</th>\n",
       "      <th>member</th>\n",
       "      <th>category</th>\n",
       "      <th>...</th>\n",
       "      <th>num_answers</th>\n",
       "      <th>country</th>\n",
       "      <th>date</th>\n",
       "      <th>last_answer_date</th>\n",
       "      <th>author_crc</th>\n",
       "      <th>content_tok</th>\n",
       "      <th>question_tok</th>\n",
       "      <th>comment_tok</th>\n",
       "      <th>n_comments</th>\n",
       "      <th>comment_tok_merged</th>\n",
       "    </tr>\n",
       "  </thead>\n",
       "  <tbody>\n",
       "    <tr>\n",
       "      <th>0</th>\n",
       "      <td>14</td>\n",
       "      <td>A</td>\n",
       "      <td>0</td>\n",
       "      <td>5</td>\n",
       "      <td>5</td>\n",
       "      <td>1</td>\n",
       "      <td>Trojan help</td>\n",
       "      <td>first problem is having norton  this program d...</td>\n",
       "      <td>0</td>\n",
       "      <td>7</td>\n",
       "      <td>...</td>\n",
       "      <td>4</td>\n",
       "      <td>FR</td>\n",
       "      <td>1199952649</td>\n",
       "      <td>1208967475</td>\n",
       "      <td>1932528411</td>\n",
       "      <td>[first, problem, norton, program, help, preven...</td>\n",
       "      <td>[hello, trojan, comput, norton, remov, wonder,...</td>\n",
       "      <td>[]</td>\n",
       "      <td>0</td>\n",
       "      <td>[]</td>\n",
       "    </tr>\n",
       "    <tr>\n",
       "      <th>1</th>\n",
       "      <td>169</td>\n",
       "      <td>A</td>\n",
       "      <td>0</td>\n",
       "      <td>5</td>\n",
       "      <td>5</td>\n",
       "      <td>0</td>\n",
       "      <td>Trojan help</td>\n",
       "      <td>hi there        please download hijack this...</td>\n",
       "      <td>2</td>\n",
       "      <td>7</td>\n",
       "      <td>...</td>\n",
       "      <td>4</td>\n",
       "      <td>other</td>\n",
       "      <td>1201275303</td>\n",
       "      <td>1208967475</td>\n",
       "      <td>1113244950</td>\n",
       "      <td>[hi, pleas, download, hijack, post, log, forum...</td>\n",
       "      <td>[hello, trojan, comput, norton, remov, wonder,...</td>\n",
       "      <td>[]</td>\n",
       "      <td>0</td>\n",
       "      <td>[]</td>\n",
       "    </tr>\n",
       "    <tr>\n",
       "      <th>2</th>\n",
       "      <td>4532</td>\n",
       "      <td>A</td>\n",
       "      <td>0</td>\n",
       "      <td>5</td>\n",
       "      <td>5</td>\n",
       "      <td>0</td>\n",
       "      <td>Trojan help</td>\n",
       "      <td>hi  i mohamed  from  alex  i  have  some pr...</td>\n",
       "      <td>0</td>\n",
       "      <td>7</td>\n",
       "      <td>...</td>\n",
       "      <td>4</td>\n",
       "      <td>unknown</td>\n",
       "      <td>1207942020</td>\n",
       "      <td>1208967475</td>\n",
       "      <td>1957797043</td>\n",
       "      <td>[hi, moham, alex, proplem, comput, becus, viru...</td>\n",
       "      <td>[hello, trojan, comput, norton, remov, wonder,...</td>\n",
       "      <td>[]</td>\n",
       "      <td>0</td>\n",
       "      <td>[]</td>\n",
       "    </tr>\n",
       "    <tr>\n",
       "      <th>3</th>\n",
       "      <td>5318</td>\n",
       "      <td>A</td>\n",
       "      <td>1</td>\n",
       "      <td>5</td>\n",
       "      <td>5</td>\n",
       "      <td>2</td>\n",
       "      <td>Trojan help</td>\n",
       "      <td>hey i had trojan on my pc   my friend told me ...</td>\n",
       "      <td>2</td>\n",
       "      <td>7</td>\n",
       "      <td>...</td>\n",
       "      <td>4</td>\n",
       "      <td>unknown</td>\n",
       "      <td>1208967475</td>\n",
       "      <td>1208967475</td>\n",
       "      <td>2126777814</td>\n",
       "      <td>[hey, trojan, pc, friend, told, use, avira, an...</td>\n",
       "      <td>[hello, trojan, comput, norton, remov, wonder,...</td>\n",
       "      <td>[]</td>\n",
       "      <td>0</td>\n",
       "      <td>[]</td>\n",
       "    </tr>\n",
       "    <tr>\n",
       "      <th>4</th>\n",
       "      <td>25</td>\n",
       "      <td>A</td>\n",
       "      <td>0</td>\n",
       "      <td>8</td>\n",
       "      <td>8</td>\n",
       "      <td>0</td>\n",
       "      <td>Modem problem</td>\n",
       "      <td>sounds like a driver problem  does he know wha...</td>\n",
       "      <td>0</td>\n",
       "      <td>5</td>\n",
       "      <td>...</td>\n",
       "      <td>2</td>\n",
       "      <td>FR</td>\n",
       "      <td>1200071299</td>\n",
       "      <td>1200071427</td>\n",
       "      <td>2156482720</td>\n",
       "      <td>[sound, like, driver, problem, know, modem, br...</td>\n",
       "      <td>[friend, mine, comput, window, xp, profession,...</td>\n",
       "      <td>[]</td>\n",
       "      <td>0</td>\n",
       "      <td>[]</td>\n",
       "    </tr>\n",
       "  </tbody>\n",
       "</table>\n",
       "<p>5 rows × 22 columns</p>\n",
       "</div>"
      ],
      "text/plain": [
       "     id type  is_best_answer  topic_id  parent_id  votes          title  \\\n",
       "0    14    A               0         5          5      1    Trojan help   \n",
       "1   169    A               0         5          5      0    Trojan help   \n",
       "2  4532    A               0         5          5      0    Trojan help   \n",
       "3  5318    A               1         5          5      2    Trojan help   \n",
       "4    25    A               0         8          8      0  Modem problem   \n",
       "\n",
       "                                             content  member  category  ...  \\\n",
       "0  first problem is having norton  this program d...       0         7  ...   \n",
       "1     hi there        please download hijack this...       2         7  ...   \n",
       "2     hi  i mohamed  from  alex  i  have  some pr...       0         7  ...   \n",
       "3  hey i had trojan on my pc   my friend told me ...       2         7  ...   \n",
       "4  sounds like a driver problem  does he know wha...       0         5  ...   \n",
       "\n",
       "   num_answers  country        date last_answer_date  author_crc  \\\n",
       "0            4       FR  1199952649       1208967475  1932528411   \n",
       "1            4    other  1201275303       1208967475  1113244950   \n",
       "2            4  unknown  1207942020       1208967475  1957797043   \n",
       "3            4  unknown  1208967475       1208967475  2126777814   \n",
       "4            2       FR  1200071299       1200071427  2156482720   \n",
       "\n",
       "                                         content_tok  \\\n",
       "0  [first, problem, norton, program, help, preven...   \n",
       "1  [hi, pleas, download, hijack, post, log, forum...   \n",
       "2  [hi, moham, alex, proplem, comput, becus, viru...   \n",
       "3  [hey, trojan, pc, friend, told, use, avira, an...   \n",
       "4  [sound, like, driver, problem, know, modem, br...   \n",
       "\n",
       "                                        question_tok comment_tok n_comments  \\\n",
       "0  [hello, trojan, comput, norton, remov, wonder,...          []          0   \n",
       "1  [hello, trojan, comput, norton, remov, wonder,...          []          0   \n",
       "2  [hello, trojan, comput, norton, remov, wonder,...          []          0   \n",
       "3  [hello, trojan, comput, norton, remov, wonder,...          []          0   \n",
       "4  [friend, mine, comput, window, xp, profession,...          []          0   \n",
       "\n",
       "  comment_tok_merged  \n",
       "0                 []  \n",
       "1                 []  \n",
       "2                 []  \n",
       "3                 []  \n",
       "4                 []  \n",
       "\n",
       "[5 rows x 22 columns]"
      ]
     },
     "execution_count": 6,
     "metadata": {},
     "output_type": "execute_result"
    }
   ],
   "source": [
    "# create table of answers\n",
    "answers = samp[samp.type ==\"A\"].copy()\n",
    "answers.index= range(answers.shape[0])\n",
    "answers[\"question_tok\"] = None\n",
    "answers[\"comment_tok\"] = None\n",
    "answers[\"n_comments\"] = None\n",
    "# for each answer get its question and comment tokens, and number of comments\n",
    "for i in range(answers.shape[0]):\n",
    "    answers.at[i, \"question_tok\"] = samp.loc[samp.id == answers.loc[i,\"parent_id\"], \"content_tok\"].iloc[0]\n",
    "    comments = samp[samp.parent_id == answers.loc[i,\"id\"]]\n",
    "    answers.loc[i, \"n_comments\"] = int(comments.shape[0])\n",
    "    answers.at[i, \"comment_tok\"] = list(comments.content_tok)\n",
    "answers[\"comment_tok_merged\"] = [[item for comment in l for item in comment] for l in answers.comment_tok]    \n",
    "answers.head()"
   ]
  },
  {
   "cell_type": "code",
   "execution_count": 7,
   "metadata": {},
   "outputs": [
    {
     "data": {
      "text/plain": [
       "<matplotlib.axes._subplots.AxesSubplot at 0x1a5b80e150>"
      ]
     },
     "execution_count": 7,
     "metadata": {},
     "output_type": "execute_result"
    },
    {
     "data": {
      "image/png": "[encoded data removed]",
      "text/plain": [
       "<Figure size 360x144 with 1 Axes>"
      ]
     },
     "metadata": {
      "needs_background": "light"
     },
     "output_type": "display_data"
    }
   ],
   "source": [
    "# take a look at the proportion of each class from the target variable\n",
    "ax = plt.figure(figsize=(5,2))\n",
    "sns.countplot(data=answers, x='is_best_answer')"
   ]
  },
  {
   "cell_type": "markdown",
   "metadata": {},
   "source": [
    "## III. Modeling "
   ]
  },
  {
   "cell_type": "code",
   "execution_count": 8,
   "metadata": {},
   "outputs": [],
   "source": [
    "#  train/test split\n",
    "X = answers.drop(columns=[\"is_best_answer\"])\n",
    "y = answers.is_best_answer\n",
    "X_train, X_test, y_train, y_test = train_test_split(X, y, test_size=0.2, random_state=123)"
   ]
  },
  {
   "cell_type": "markdown",
   "metadata": {},
   "source": [
    "   ### A) Word2Vec "
   ]
  },
  {
   "cell_type": "code",
   "execution_count": 9,
   "metadata": {},
   "outputs": [],
   "source": [
    "#  Perform Word2Vec on answers, questions and comments\n",
    "X_train_tokens = pd.concat([X_train.content_tok, X_train.question_tok, X_train.comment_tok_merged])\n",
    "emb_size =128\n",
    "model_w2v = Word2Vec(size=emb_size, min_count=5)\n",
    "model_w2v.build_vocab(X_train_tokens) \n",
    "#Train the model_w2v \n",
    "model_w2v.train(X_train_tokens, total_examples=model_w2v.corpus_count, epochs=500)\n",
    "def build_word2vec_from_text(model_w2v, sentence, emb_size):\n",
    "    emb_vec = np.zeros(emb_size).reshape((1, emb_size))\n",
    "    count = 0.\n",
    "    for word in sentence:\n",
    "        try:\n",
    "            emb_vec += model_w2v[word].reshape((1, emb_size))\n",
    "            count += 1.\n",
    "        except KeyError:\n",
    "            continue\n",
    "    if count != 0:\n",
    "        emb_vec /= count\n",
    "    return emb_vec\n",
    "X_train_answer_vec = pd.DataFrame(np.concatenate([build_word2vec_from_text(model_w2v, d, emb_size) for d in X_train.content_tok], axis=0))\n",
    "X_train_question_vec= pd.DataFrame(np.concatenate([build_word2vec_from_text(model_w2v, d, emb_size) for d in X_train.question_tok], axis=0))\n",
    "X_test_answer_vec = pd.DataFrame(np.concatenate([build_word2vec_from_text(model_w2v, d, emb_size) for d in X_test.content_tok], axis=0))\n",
    "X_test_question_vec = pd.DataFrame(np.concatenate([build_word2vec_from_text(model_w2v, d, emb_size) for d in X_test.question_tok], axis=0))\n",
    "\n",
    "#  Word2Vec for comments\n",
    "def comments_word2vec(x):\n",
    "    vec = [[build_word2vec_from_text(model_w2v, d, emb_size) for d in el]for el in x.comment_tok]\n",
    "    vec = [sum(item)/len(item) if len(item)!=0 else item for item in vec]\n",
    "    vec = [np.zeros(emb_size).reshape((1, emb_size)) if len(item)==0 else item for item in vec]\n",
    "    vec = pd.DataFrame(np.concatenate(vec,axis=0))\n",
    "    return vec\n",
    "\n",
    "X_train_comment_vec = comments_word2vec(X_train)\n",
    "X_test_comment_vec = comments_word2vec(X_test)"
   ]
  },
  {
   "cell_type": "code",
   "execution_count": 10,
   "metadata": {},
   "outputs": [],
   "source": [
    "#  dummify categorical variable. remove useless ones too\n",
    "def dummify(df):\n",
    "    dummies= df.drop(columns= [\"id\",\"topic_id\", \"type\", \"parent_id\", \"title\", \"content\", \"category\", \"author_crc\", \"content_tok\", \"question_tok\", \"comment_tok\",\"comment_tok_merged\"])\n",
    "    dummies.member = dummies.member.astype(str)\n",
    "    dummies.state = dummies.state.astype(str)\n",
    "    dummies.is_solved = dummies.is_solved.astype(str)\n",
    "    dummies.date = dummies.date.astype(int)\n",
    "    dummies[\"year\"] = [datetime.utcfromtimestamp(int(dummies.iloc[i,:]['date'])).strftime('%Y') for i in range(dummies.shape[0])]\n",
    "    dummies[\"month\"] = [datetime.utcfromtimestamp(int(dummies.iloc[i,:]['date'])).strftime('%m') for i in range(dummies.shape[0])]\n",
    "    dummies[\"time_diff\"] = dummies.last_answer_date - df.date\n",
    "    dummies = dummies.drop(columns = [\"date\", \"last_answer_date\"])\n",
    "    dummies = pd.get_dummies(dummies, columns = [\"member\"])\n",
    "    dummies = pd.get_dummies(dummies, columns = [\"state\"])\n",
    "    dummies = pd.get_dummies(dummies, columns = [\"is_solved\"])\n",
    "    dummies = pd.get_dummies(dummies, columns = [\"country\"])\n",
    "    dummies = pd.get_dummies(dummies, columns = [\"year\"])\n",
    "    dummies = pd.get_dummies(dummies, columns = [\"month\"])\n",
    "    dummies = dummies.drop(columns=[\"member_0\", \"state_0\", \"is_solved_0\", \"year_2008\", \"month_01\",\"country_unknown\"])\n",
    "    return(dummies)\n",
    "X_train = dummify(X_train)\n",
    "X_test= dummify(X_test)\n",
    "X_train.index = range(X_train.shape[0])\n",
    "X_train= pd.concat([X_train,X_train_answer_vec, X_train_question_vec,X_train_comment_vec],axis=1)\n",
    "X_test.index = range(X_test.shape[0])\n",
    "X_test= pd.concat([X_test,X_test_answer_vec, X_test_question_vec,X_test_comment_vec],axis=1)\n",
    "new_col_names = list(X_train.columns[0:37]) + list(map(str,list(range(len(X_train.columns[37:X_train.shape[1]])))))\n",
    "X_train.columns = new_col_names\n",
    "X_test.columns= new_col_names"
   ]
  },
  {
   "cell_type": "code",
   "execution_count": 14,
   "metadata": {},
   "outputs": [
    {
     "data": {
      "text/plain": [
       "<matplotlib.axes._subplots.AxesSubplot at 0x1a5705b390>"
      ]
     },
     "execution_count": 14,
     "metadata": {},
     "output_type": "execute_result"
    },
    {
     "data": {
      "image/png": "[encoded data removed]",
      "text/plain": [
       "<Figure size 360x144 with 1 Axes>"
      ]
     },
     "metadata": {
      "needs_background": "light"
     },
     "output_type": "display_data"
    }
   ],
   "source": [
    "# Deal with target variable class imbalance using SMOTE\n",
    "from imblearn.over_sampling import SMOTE\n",
    "sm = SMOTE(random_state = 123)\n",
    "X_train_res, y_train_res = sm.fit_resample(X_train, y_train)\n",
    "ax = plt.figure(figsize=(5,2))\n",
    "#sns.countplot(data=y_train_res, x='is_best_answer')\n",
    "sns.countplot(y_train_res)"
   ]
  },
  {
   "cell_type": "code",
   "execution_count": 15,
   "metadata": {},
   "outputs": [],
   "source": [
    "#  Scale\n",
    "from sklearn.preprocessing import StandardScaler\n",
    "scale = StandardScaler()\n",
    "scale.fit(X_train_res)\n",
    "X_train_scaled = scale.transform(X_train_res)\n",
    "X_test_scaled = scale.transform(X_test)"
   ]
  },
  {
   "cell_type": "code",
   "execution_count": 16,
   "metadata": {},
   "outputs": [],
   "source": [
    "from sklearn.metrics import roc_curve, auc, classification_report\n",
    "\n",
    "# function to plot roc and show auc for both train and test sets for a given model\n",
    "def plot_roc(model, model_name):\n",
    "    prob_train= model.predict_proba(X_train_scaled)[:,1]\n",
    "    fpr_train, tpr_train, cutoffs = roc_curve(y_train_res, prob_train)\n",
    "    \n",
    "    prob_test= model.predict_proba(X_test_scaled)[:,1]\n",
    "    fpr_test, tpr_test, cutoffs = roc_curve(y_test, prob_test)\n",
    "    \n",
    "    y_pred_test=  model.predict(X_test_scaled)\n",
    "    print(\"Classification report for test set:\")\n",
    "    print(classification_report(y_test,y_pred_test))\n",
    "    plt.title(\"ROC Curve for {} Model of Best Answer\".format(model_name))\n",
    "    plt.ylabel(\"True Positive Rate\")\n",
    "    plt.xlabel(\"False Positive Rate\")\n",
    "    roc_train, = plt.plot(fpr_train, tpr_train, label =\"AUC train: {:.2}\".format(auc(fpr_train, tpr_train)), c= \"blue\")\n",
    "    roc_test, = plt.plot(fpr_test, tpr_test, label =\"AUC test: {:.2}\".format(auc(fpr_test, tpr_test)), c= \"orange\")\n",
    "    plt.legend(handles=[roc_train, roc_test])\n",
    "    plt.show() "
   ]
  },
  {
   "cell_type": "markdown",
   "metadata": {},
   "source": [
    "### B) Logistic Regression"
   ]
  },
  {
   "cell_type": "code",
   "execution_count": 17,
   "metadata": {},
   "outputs": [
    {
     "name": "stdout",
     "output_type": "stream",
     "text": [
      "Classification report for test set:\n",
      "              precision    recall  f1-score   support\n",
      "\n",
      "           0       0.95      0.95      0.95     23704\n",
      "           1       0.29      0.29      0.29      1726\n",
      "\n",
      "    accuracy                           0.90     25430\n",
      "   macro avg       0.62      0.62      0.62     25430\n",
      "weighted avg       0.90      0.90      0.90     25430\n",
      "\n"
     ]
    },
    {
     "data": {
      "image/png": "[encoded data removed]",
      "text/plain": [
       "<Figure size 432x288 with 1 Axes>"
      ]
     },
     "metadata": {
      "needs_background": "light"
     },
     "output_type": "display_data"
    }
   ],
   "source": [
    "# LR with CV\n",
    "from sklearn.linear_model import LogisticRegressionCV\n",
    "lr = LogisticRegressionCV(penalty='l2', cv = 10, max_iter = 5000)\n",
    "lr.fit(X_train_scaled, y_train_res)\n",
    "plot_roc(lr, \"Logistic Regression\")"
   ]
  },
  {
   "cell_type": "markdown",
   "metadata": {},
   "source": [
    "### C) Random Forest"
   ]
  },
  {
   "cell_type": "code",
   "execution_count": 18,
   "metadata": {},
   "outputs": [
    {
     "name": "stdout",
     "output_type": "stream",
     "text": [
      "Classification report for test set:\n",
      "              precision    recall  f1-score   support\n",
      "\n",
      "           0       0.99      0.98      0.99     23704\n",
      "           1       0.80      0.85      0.82      1726\n",
      "\n",
      "    accuracy                           0.98     25430\n",
      "   macro avg       0.89      0.92      0.91     25430\n",
      "weighted avg       0.98      0.98      0.98     25430\n",
      "\n"
     ]
    },
    {
     "data": {
      "image/png": "[encoded data removed]",
      "text/plain": [
       "<Figure size 432x288 with 1 Axes>"
      ]
     },
     "metadata": {
      "needs_background": "light"
     },
     "output_type": "display_data"
    }
   ],
   "source": [
    "# Random Forest\n",
    "from sklearn.ensemble import RandomForestClassifier\n",
    "rf= RandomForestClassifier(n_estimators=100, random_state=42)\n",
    "rf.fit(X_train_scaled, y_train_res)\n",
    "plot_roc(rf, \"Random Forest\")"
   ]
  },
  {
   "cell_type": "markdown",
   "metadata": {},
   "source": [
    "### D) Random Forest vs. Logistic Regression"
   ]
  },
  {
   "cell_type": "code",
   "execution_count": 19,
   "metadata": {},
   "outputs": [
    {
     "data": {
      "image/png": "[encoded data removed]",
      "text/plain": [
       "<Figure size 432x288 with 1 Axes>"
      ]
     },
     "metadata": {
      "needs_background": "light"
     },
     "output_type": "display_data"
    }
   ],
   "source": [
    "# Compare ROC between Random Forest and Logistic Regression\n",
    "prob_lr= lr.predict_proba(X_test_scaled)[:,1]\n",
    "fpr_lr, tpr_lr, cutoffs = roc_curve(y_test, prob_lr)  \n",
    "prob_rf= rf.predict_proba(X_test_scaled)[:,1]\n",
    "fpr_rf, tpr_rf, cutoffs = roc_curve(y_test, prob_rf)    \n",
    "plt.title(\"Comparing Test Set ROC Curve Betweeen Models\")\n",
    "plt.ylabel(\"True Positive Rate\")\n",
    "plt.xlabel(\"False Positive Rate\")\n",
    "roc_lr, = plt.plot(fpr_lr, tpr_lr, label =\"AUC Log. Reg.: {:.2}\".format(auc(fpr_lr, tpr_lr)), c= \"red\")\n",
    "roc_rf, = plt.plot(fpr_rf, tpr_rf, label =\"AUC Rand. For.: {:.2}\".format(auc(fpr_rf, tpr_rf)), c= \"green\")\n",
    "plt.legend(handles=[roc_rf, roc_lr])\n",
    "plt.show()"
   ]
  },
  {
   "cell_type": "markdown",
   "metadata": {},
   "source": [
    "Our final results reveal that Random Forest outperforms Logistic Regression in predicting the best answer, where AUC of RF = 0.99 and AUC of LR = 0.80 for the testing set. "
   ]
  }
 ],
 "metadata": {
  "kernelspec": {
   "display_name": "Python 3",
   "language": "python",
   "name": "python3"
  },
  "language_info": {
   "codemirror_mode": {
    "name": "ipython",
    "version": 3
   },
   "file_extension": ".py",
   "mimetype": "text/x-python",
   "name": "python",
   "nbconvert_exporter": "python",
   "pygments_lexer": "ipython3",
   "version": "3.7.6"
  }
 },
 "nbformat": 4,
 "nbformat_minor": 4
}
